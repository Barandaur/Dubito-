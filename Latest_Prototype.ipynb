{
 "cells": [
  {
   "cell_type": "markdown",
   "metadata": {},
   "source": [
    "## Conventions:\n",
    "\n",
    "- turn e player_id partono da 1\n",
    "- il turno viene aggiornato non appena il giocatore di turno gioca le carte. Dunque si dubita sempre del giocatore del turno precedente, fintanto che il nuovo giocatore non gioca carte a sua volta\n",
    "\n",
    "## General todoes\n",
    "\n",
    "- implementare il check_input\n",
    "- rendere il tutto meno spaghettato (es. alcuni assert sono in player anziché in game)\n",
    "- assegnare il turno a chi vince, o al giocatore che ha iniziato la mano se tutti passano\n",
    "\n",
    "--- \n",
    "\n",
    "- **safety checks** -> controlla che:\n",
    "    - non puoi dubitare di un giocatore che ha passato\n",
    "    - se dubiti e perdi peschi le carte\n",
    "    - se tutti passano il pozzo viene resettato e rimani con le carte di prima\n",
    "    - se rimani senza carte vinci (magari un random seed?)\n",
    "    - se rimani senza carte e vieni ingiustamente dubitato vinci\n",
    "    - se rimani senza carte ma vieni correttamente dubitato non vinci\n",
    "    - rendi tutto eseguibile via terminal, e deve tutto terminare quando uno vince\n",
    "    - assicurati che non si possano fare due doubt consecutivi (non ci sono conseguenze sulle carte, ma potrebbero essercene sulla gestione del turno)\n",
    "    - molto spaghetti code come gestisco i player id e i turni, controlla qui se ci sono bug\n"
   ]
  },
  {
   "cell_type": "markdown",
   "metadata": {},
   "source": [
    "# Cards "
   ]
  },
  {
   "cell_type": "code",
   "execution_count": 1,
   "metadata": {},
   "outputs": [],
   "source": [
    "# -*- coding: utf-8 -*-\n",
    "\"\"\"\n",
    "Contiene la classe Cards, per gestire il mazzo,\n",
    "e la funzione safety_checks_Deck, per effettuare\n",
    "alcuni controlli base sulla classe\n",
    "\n",
    "@author: Eugenio\n",
    "\"\"\"\n",
    "import numpy as np\n",
    "import random as random\n",
    "import re\n",
    "import time\n",
    "\n",
    "\n",
    "class Cards:\n",
    "    def __init__(self, num_players, jolly = 100):\n",
    "        self.num_players = num_players\n",
    "        self.to_draw = 0 \n",
    "        self.deck = []\n",
    "        self.pool = [] \n",
    "        self.jolly = jolly\n",
    "        \n",
    "        assert isinstance(jolly, int), \"Il Jolly deve essere un numero\"\n",
    "        assert isinstance(num_players, int), \"num_players non è un numero\"\n",
    "        \n",
    "        self.create_deck()\n",
    "    \n",
    "    def create_deck(self):\n",
    "        \"\"\" Crea un deck con 4 copie di ogni carta (una per seme)\n",
    "            e 4 jolly, indicati per convenzione col numero 100 \"\"\"\n",
    "        \n",
    "        self.deck = np.array([i for i in range(1,14)]*4 +[self.jolly]*4, dtype=int)\n",
    "        if self.num_players > 5:\n",
    "            self.deck = np.array[list(self.deck) + list(self.deck)]\n",
    "        \n",
    "        self.to_draw = len(self.deck)//self.num_players\n",
    "        self.shuffle()\n",
    "        \n",
    "    def shuffle(self):\n",
    "        random.shuffle(self.deck)\n",
    "        \n",
    "    def add_to_pool(self, cards):\n",
    "        self.pool += list(cards)\n",
    "        \n",
    "    def reset_pool(self):\n",
    "        self.pool = []\n",
    "        print(\"Le carte sono state prese o rimosse dal pozzo\")\n",
    "        \n",
    "                \n",
    "    def draw(self):\n",
    "        \"\"\" draw an equal amount of cards from the deck for each player.\n",
    "            Return the cards extracted for one player, while removing\n",
    "            them from the Deck.\n",
    "            Note: requires that the Deck remains shuffled\"\"\"\n",
    "        \n",
    "        # safety check\n",
    "        assert len(self.deck) >= self.to_draw, \"There are not enough cards to draw!\"\n",
    "        \n",
    "        # extracted cards\n",
    "        #extracted = np.random.choice(self.deck, self.to_draw, replace = False)\n",
    "        extracted = self.deck[:self.to_draw]\n",
    "        \n",
    "        # remove them from deck\n",
    "        #self.deck = np.array([i for i in self.deck if i not in extracted])\n",
    "        self.deck = self.deck[self.to_draw:]\n",
    "        \n",
    "        return extracted"
   ]
  },
  {
   "cell_type": "markdown",
   "metadata": {},
   "source": [
    "# Player\n",
    "\n",
    "todo:\n",
    "- "
   ]
  },
  {
   "cell_type": "code",
   "execution_count": 2,
   "metadata": {},
   "outputs": [],
   "source": [
    "# -*- coding: utf-8 -*-\n",
    "\"\"\"\n",
    "Contiene la classe Player, per gestire il mazzo,\n",
    "e la funzione safety_checks_Deck, per effettuare\n",
    "alcuni controlli base sulla classe\n",
    "\n",
    "@author: Eugenio\n",
    "\"\"\"\n",
    "\n",
    "import numpy as np\n",
    "import random as random\n",
    "import re\n",
    "import time\n",
    "\n",
    "\n",
    "class Player:\n",
    "    def __init__(self, game, id_):\n",
    "        self.hand = []\n",
    "        self.game = game\n",
    "        self.id_ = id_\n",
    "        \n",
    "        game.add_player(self)\n",
    "                \n",
    "    def add_to_hand(self, cards):\n",
    "        # se la chiami __add_to_hand fai sì che non può essere chiamata se non da altre internal functions\n",
    "        \n",
    "        # volendo puoi sovrascrivere __iadd__ per poter operare comodamente con np arrays\n",
    "        self.hand += list(cards)\n",
    "        \n",
    "    def whoami(self):\n",
    "        print(f\"sei il giocatore {self.id_}\")\n",
    "        \n",
    "    def achitocca(self):\n",
    "        print(f\"it's the turn of player {self.game.turn}\")\n",
    "    \n",
    "    def show_hand(self):\n",
    "        print(\"Le tue carte sono: \", sorted(self.hand))\n",
    "    \n",
    "    def reset_hand(self):\n",
    "        self.hand = []\n",
    "        \n",
    "    def vote_Start(self):\n",
    "        self.game.vote_Start(self)\n",
    "        \n",
    "    def first_draw(self):\n",
    "        print(\"pesco le carte iniziali\")\n",
    "        self.add_to_hand(self.game.first_draw())\n",
    "              \n",
    "    def declare_card(self, card_declared):\n",
    "        \n",
    "        game = self.game\n",
    "\n",
    "        # assert it's you turn\n",
    "        assert(game.turn == self.id_), f\"It's not your turn: it's turn of player: {self.game.turn}\"\n",
    "        \n",
    "        #self.check_input(card_declared)\n",
    "        \n",
    "        game.declare_card(card_declared)\n",
    "        \n",
    "    def play_cards(self, cards:str):\n",
    "        \"\"\" Input: cards -> list.\n",
    "            Purpose: remove from hand the cards played, \n",
    "            and add them to the pool. \n",
    "            Controls that each card played is actually in hand,\n",
    "            otherwise disregards them\n",
    "            Note: dovresti spostare tutto questo nella classe GAME\"\"\"\n",
    "        \n",
    "        game = self.game\n",
    "        \n",
    "        # assert you haven't already played cards\n",
    "        \n",
    "        # assert the card has already been declared\n",
    "        assert(game.state == game.states[3]), \"You first have to declare a card\"\n",
    "        \n",
    "        # assert it's you turn\n",
    "        assert(game.turn == self.id_), f\"It's not your turn: it's turn of player: {game.turn}\"\n",
    "        \n",
    "        #self.check_input(cards)\n",
    "        \n",
    "        cards = [int(carta) if int(carta) != game.jolly \\\n",
    "                  else (self.hand.remove(int(carta)), int(game.card_declared))[1]   \\\n",
    "                     if int(carta) in self.hand  \\\n",
    "                     else None \\\n",
    "                 for carta in \\\n",
    "                 list(filter(None, re.split(\" |,|;\", cards))) ]\n",
    "                \n",
    "        # remove each played card from the hand, if present, and keep in cards the cards actually played\n",
    "        cards = [(self.hand.remove(num),num)[1] for _i, num in enumerate(cards) \\\n",
    "                 if num in self.hand and num != None]\n",
    "                 \n",
    "        game.play_cards(cards, self.id_)\n",
    "        \n",
    "        return \n",
    "\n",
    "    def doubt(self):\n",
    "        game = self.game     \n",
    "        doubted_id_ = [i for i in range(1, game.num_players+1)][game.turn - 2]\n",
    "        \n",
    "        # assert no self doubt (al turno 1 il giocatore 0 non può dubitare e così via)\n",
    "        assert(self.id_ != doubted_id_), \\\n",
    "               f\"il giocatore {self.id_} non può dubitare di se stesso!\"         \n",
    "        print(f\"Il giocatore {self.id_} sta dubitando del giocatore {doubted_id_}!\")\n",
    "     \n",
    "        loser = game.doubt(self.id_)      \n",
    "        game.soft_reset(loser)    \n",
    "        return\n",
    "        \n",
    "        \n",
    "    def check_input(self, inputto, min_=0, max_=13, type_=int, none = False, no_self_doubt = False):\n",
    "        \"\"\" Take an input, while controlling that it is\n",
    "            within a numerical range or that it is of the\n",
    "            right type, if the relative arguments are specified \"\"\"\n",
    "\n",
    "# se None è una risposta ammissibile e viene data, restituisci None\n",
    "        if none == True and not inputto:\n",
    "            return \n",
    "        elif none == False and not inputto:\n",
    "            raise Exception(\"Input cannot be None\")\n",
    "\n",
    "# here start checks about type, and min < ui < max, and self doubting\n",
    "        if type_ is not None:\n",
    "            try:\n",
    "                inputto = type_(inputto)\n",
    "            except ValueError:\n",
    "                raise Exception(\"Input type must be {0}.\".format(type_.__name__))\n",
    "\n",
    "        if no_self_doubt == True and inputto == self.id_:\n",
    "            raise Exception(\"One can't doubt his own play! :/\")                \n",
    "        elif max_ is not None and inputto > max_:\n",
    "            raise Exception(\"Input must be less than or equal to {0}.\".format(max_))\n",
    "        elif min_ is not None and inputto < min_:\n",
    "            raise Exception(\"Input must be greater than or equal to {0}.\".format(min_))"
   ]
  },
  {
   "cell_type": "code",
   "execution_count": 58,
   "metadata": {},
   "outputs": [
    {
     "name": "stdout",
     "output_type": "stream",
     "text": [
      "1 players on 2 want to start the game\n",
      "2 players on 2 want to start the game\n",
      "\n",
      "instantiating game\n",
      "pesco le carte iniziali\n",
      "pesco le carte iniziali\n",
      "Le tue carte sono:  [1, 3, 3, 3, 3, 4, 5, 5, 5, 6, 7, 7, 7, 8, 8, 8, 9, 10, 10, 11, 11, 11, 12, 13, 13, 13, 13, 100]\n"
     ]
    }
   ],
   "source": [
    "g = Game(2)\n",
    "\n",
    "p1 = Player(g, 1)\n",
    "p2 = Player(g, 2)\n",
    "\n",
    "p1.vote_Start()\n",
    "p2.vote_Start()\n",
    "\n",
    "p1.show_hand()"
   ]
  },
  {
   "cell_type": "code",
   "execution_count": 59,
   "metadata": {},
   "outputs": [
    {
     "name": "stdout",
     "output_type": "stream",
     "text": [
      "La carta da giocare è il 1\n",
      "Le tue carte sono:  [1, 3, 3, 3, 3, 4, 5, 5, 5, 6, 7, 7, 7, 8, 8, 8, 9, 10, 10, 11, 11, 11, 12, 13, 13, 13, 13, 100]\n"
     ]
    }
   ],
   "source": [
    "p1.declare_card(\"1\")\n",
    "g.card_declared\n",
    "p1.show_hand()"
   ]
  },
  {
   "cell_type": "code",
   "execution_count": 60,
   "metadata": {},
   "outputs": [
    {
     "name": "stdout",
     "output_type": "stream",
     "text": [
      "1\n",
      "prima []\n",
      "dopo []\n",
      "player 1 has passed its turn\n",
      "Le tue carte sono:  [1, 3, 3, 3, 3, 4, 5, 5, 5, 6, 7, 7, 7, 8, 8, 8, 9, 10, 10, 11, 11, 11, 12, 13, 13, 13, 13, 100]\n"
     ]
    }
   ],
   "source": [
    "p1.play_cards(\"\")\n",
    "p1.show_hand()"
   ]
  },
  {
   "cell_type": "code",
   "execution_count": 61,
   "metadata": {},
   "outputs": [
    {
     "name": "stdout",
     "output_type": "stream",
     "text": [
      "Il giocatore 2 sta dubitando del giocatore 1!\n"
     ]
    },
    {
     "ename": "AssertionError",
     "evalue": "Non puoi dubitare se il giocatore precedente non ha giocato carte",
     "output_type": "error",
     "traceback": [
      "\u001b[1;31m---------------------------------------------------------------------------\u001b[0m",
      "\u001b[1;31mAssertionError\u001b[0m                            Traceback (most recent call last)",
      "\u001b[1;32m<ipython-input-61-75ee47174a6b>\u001b[0m in \u001b[0;36m<module>\u001b[1;34m\u001b[0m\n\u001b[1;32m----> 1\u001b[1;33m \u001b[0mp2\u001b[0m\u001b[1;33m.\u001b[0m\u001b[0mdoubt\u001b[0m\u001b[1;33m(\u001b[0m\u001b[1;33m)\u001b[0m\u001b[1;33m\u001b[0m\u001b[1;33m\u001b[0m\u001b[0m\n\u001b[0m",
      "\u001b[1;32m<ipython-input-2-a780685df9d5>\u001b[0m in \u001b[0;36mdoubt\u001b[1;34m(self)\u001b[0m\n\u001b[0;32m    106\u001b[0m         \u001b[0mprint\u001b[0m\u001b[1;33m(\u001b[0m\u001b[1;34mf\"Il giocatore {self.id_} sta dubitando del giocatore {doubted_id_}!\"\u001b[0m\u001b[1;33m)\u001b[0m\u001b[1;33m\u001b[0m\u001b[1;33m\u001b[0m\u001b[0m\n\u001b[0;32m    107\u001b[0m \u001b[1;33m\u001b[0m\u001b[0m\n\u001b[1;32m--> 108\u001b[1;33m         \u001b[0mloser\u001b[0m \u001b[1;33m=\u001b[0m \u001b[0mgame\u001b[0m\u001b[1;33m.\u001b[0m\u001b[0mdoubt\u001b[0m\u001b[1;33m(\u001b[0m\u001b[0mself\u001b[0m\u001b[1;33m.\u001b[0m\u001b[0mid_\u001b[0m\u001b[1;33m)\u001b[0m\u001b[1;33m\u001b[0m\u001b[1;33m\u001b[0m\u001b[0m\n\u001b[0m\u001b[0;32m    109\u001b[0m         \u001b[0mgame\u001b[0m\u001b[1;33m.\u001b[0m\u001b[0msoft_reset\u001b[0m\u001b[1;33m(\u001b[0m\u001b[0mloser\u001b[0m\u001b[1;33m)\u001b[0m\u001b[1;33m\u001b[0m\u001b[1;33m\u001b[0m\u001b[0m\n\u001b[0;32m    110\u001b[0m         \u001b[1;32mreturn\u001b[0m\u001b[1;33m\u001b[0m\u001b[1;33m\u001b[0m\u001b[0m\n",
      "\u001b[1;32m<ipython-input-45-569dcb1052c2>\u001b[0m in \u001b[0;36mdoubt\u001b[1;34m(self, who_doubted)\u001b[0m\n\u001b[0;32m    165\u001b[0m         \u001b[1;32massert\u001b[0m\u001b[1;33m(\u001b[0m\u001b[0mself\u001b[0m\u001b[1;33m.\u001b[0m\u001b[0mstate\u001b[0m \u001b[1;33m==\u001b[0m \u001b[0mself\u001b[0m\u001b[1;33m.\u001b[0m\u001b[0mstates\u001b[0m\u001b[1;33m[\u001b[0m\u001b[1;36m3\u001b[0m\u001b[1;33m]\u001b[0m\u001b[1;33m)\u001b[0m\u001b[1;33m,\u001b[0m \u001b[1;34m\"Non puoi dubitare di giocate ancora non effettuate!\"\u001b[0m\u001b[1;33m\u001b[0m\u001b[1;33m\u001b[0m\u001b[0m\n\u001b[0;32m    166\u001b[0m         \u001b[1;31m# questo serve, quello dopo è ridondante\u001b[0m\u001b[1;33m\u001b[0m\u001b[1;33m\u001b[0m\u001b[1;33m\u001b[0m\u001b[0m\n\u001b[1;32m--> 167\u001b[1;33m         \u001b[1;32massert\u001b[0m\u001b[1;33m(\u001b[0m\u001b[0mlen\u001b[0m\u001b[1;33m(\u001b[0m\u001b[0mself\u001b[0m\u001b[1;33m.\u001b[0m\u001b[0mcards_played\u001b[0m\u001b[1;33m)\u001b[0m\u001b[1;33m>\u001b[0m \u001b[1;36m0\u001b[0m\u001b[1;33m)\u001b[0m\u001b[1;33m,\u001b[0m \u001b[1;34m\"Non puoi dubitare se il giocatore precedente non ha giocato carte\"\u001b[0m\u001b[1;33m\u001b[0m\u001b[1;33m\u001b[0m\u001b[0m\n\u001b[0m\u001b[0;32m    168\u001b[0m \u001b[1;33m\u001b[0m\u001b[0m\n\u001b[0;32m    169\u001b[0m         \u001b[1;32massert\u001b[0m\u001b[1;33m(\u001b[0m\u001b[0mself\u001b[0m\u001b[1;33m.\u001b[0m\u001b[0mconsecutive_passes\u001b[0m \u001b[1;33m==\u001b[0m \u001b[1;36m0\u001b[0m\u001b[1;33m)\u001b[0m\u001b[1;33m,\u001b[0m \u001b[1;34m\"Non puoi dubitare se il giocatore precedente non ha giocato carte\"\u001b[0m\u001b[1;33m\u001b[0m\u001b[1;33m\u001b[0m\u001b[0m\n",
      "\u001b[1;31mAssertionError\u001b[0m: Non puoi dubitare se il giocatore precedente non ha giocato carte"
     ]
    }
   ],
   "source": [
    "p2.doubt()"
   ]
  },
  {
   "cell_type": "code",
   "execution_count": 33,
   "metadata": {},
   "outputs": [
    {
     "name": "stdout",
     "output_type": "stream",
     "text": [
      "Il giocatore 2 sta dubitando del giocatore 1!\n",
      "Il giocatore 2 ha correttamente dubitato del giocatore 1!\n",
      "Le carte sono state prese o rimosse dal pozzo\n"
     ]
    }
   ],
   "source": [
    "p2.doubt()"
   ]
  },
  {
   "cell_type": "code",
   "execution_count": 62,
   "metadata": {},
   "outputs": [
    {
     "name": "stdout",
     "output_type": "stream",
     "text": [
      "1\n",
      "prima []\n",
      "dopo []\n",
      "player 2 has passed its turn\n",
      "Tutti i giocatori hanno passato! Sta per iniziare un nuovo giro\n",
      "Le carte sono state prese o rimosse dal pozzo\n"
     ]
    }
   ],
   "source": [
    "p2.play_cards(\"\")"
   ]
  },
  {
   "cell_type": "code",
   "execution_count": 158,
   "metadata": {},
   "outputs": [
    {
     "ename": "AssertionError",
     "evalue": "il giocatore 1 non può dubitare di se stesso!",
     "output_type": "error",
     "traceback": [
      "\u001b[1;31m---------------------------------------------------------------------------\u001b[0m",
      "\u001b[1;31mAssertionError\u001b[0m                            Traceback (most recent call last)",
      "\u001b[1;32m<ipython-input-158-b497ed2958e7>\u001b[0m in \u001b[0;36m<module>\u001b[1;34m\u001b[0m\n\u001b[0;32m      1\u001b[0m \u001b[1;31m# dovrebbe dare errore\u001b[0m\u001b[1;33m\u001b[0m\u001b[1;33m\u001b[0m\u001b[1;33m\u001b[0m\u001b[0m\n\u001b[1;32m----> 2\u001b[1;33m \u001b[0mp1\u001b[0m\u001b[1;33m.\u001b[0m\u001b[0mdoubt\u001b[0m\u001b[1;33m(\u001b[0m\u001b[1;33m)\u001b[0m\u001b[1;33m\u001b[0m\u001b[1;33m\u001b[0m\u001b[0m\n\u001b[0m",
      "\u001b[1;32m<ipython-input-132-6309cb2db618>\u001b[0m in \u001b[0;36mdoubt\u001b[1;34m(self)\u001b[0m\n\u001b[0;32m     97\u001b[0m \u001b[1;33m\u001b[0m\u001b[0m\n\u001b[0;32m     98\u001b[0m         \u001b[1;31m# assert no self doubt (al turno 1 il giocatore 0 non può dubitare e così via)\u001b[0m\u001b[1;33m\u001b[0m\u001b[1;33m\u001b[0m\u001b[1;33m\u001b[0m\u001b[0m\n\u001b[1;32m---> 99\u001b[1;33m         \u001b[1;32massert\u001b[0m\u001b[1;33m(\u001b[0m\u001b[0mself\u001b[0m\u001b[1;33m.\u001b[0m\u001b[0mid_\u001b[0m \u001b[1;33m!=\u001b[0m \u001b[0mdoubted_id_\u001b[0m\u001b[1;33m)\u001b[0m\u001b[1;33m,\u001b[0m\u001b[0;31m \u001b[0m\u001b[0;31m\\\u001b[0m\u001b[1;33m\u001b[0m\u001b[1;33m\u001b[0m\u001b[0m\n\u001b[0m\u001b[0;32m    100\u001b[0m                \u001b[1;34mf\"il giocatore {self.id_} non può dubitare di se stesso!\"\u001b[0m\u001b[1;33m\u001b[0m\u001b[1;33m\u001b[0m\u001b[0m\n\u001b[0;32m    101\u001b[0m         \u001b[0mprint\u001b[0m\u001b[1;33m(\u001b[0m\u001b[1;34mf\"Il giocatore {self.id_} sta dubitando del giocatore {doubted_id_}!\"\u001b[0m\u001b[1;33m)\u001b[0m\u001b[1;33m\u001b[0m\u001b[1;33m\u001b[0m\u001b[0m\n",
      "\u001b[1;31mAssertionError\u001b[0m: il giocatore 1 non può dubitare di se stesso!"
     ]
    }
   ],
   "source": [
    "# dovrebbe dare errore\n",
    "p1.doubt()"
   ]
  },
  {
   "cell_type": "code",
   "execution_count": 159,
   "metadata": {},
   "outputs": [
    {
     "name": "stdout",
     "output_type": "stream",
     "text": [
      "Il giocatore 2 sta dubitando del giocatore 1!\n",
      "E invece il giocatore 1 aveva effettivamente giocato 1 copie della carta 1!\n",
      "Le carte sono state prese o rimosse dal pozzo\n"
     ]
    }
   ],
   "source": [
    "p2.doubt()"
   ]
  },
  {
   "cell_type": "code",
   "execution_count": 160,
   "metadata": {},
   "outputs": [
    {
     "name": "stdout",
     "output_type": "stream",
     "text": [
      "pesco le carte iniziali\n"
     ]
    },
    {
     "ename": "AssertionError",
     "evalue": "Nice try",
     "output_type": "error",
     "traceback": [
      "\u001b[1;31m---------------------------------------------------------------------------\u001b[0m",
      "\u001b[1;31mAssertionError\u001b[0m                            Traceback (most recent call last)",
      "\u001b[1;32m<ipython-input-160-f83540d3ff36>\u001b[0m in \u001b[0;36m<module>\u001b[1;34m\u001b[0m\n\u001b[0;32m      1\u001b[0m \u001b[1;31m# dovrebbe dare errore\u001b[0m\u001b[1;33m\u001b[0m\u001b[1;33m\u001b[0m\u001b[1;33m\u001b[0m\u001b[0m\n\u001b[1;32m----> 2\u001b[1;33m \u001b[0mp2\u001b[0m\u001b[1;33m.\u001b[0m\u001b[0mfirst_draw\u001b[0m\u001b[1;33m(\u001b[0m\u001b[1;33m)\u001b[0m\u001b[1;33m\u001b[0m\u001b[1;33m\u001b[0m\u001b[0m\n\u001b[0m",
      "\u001b[1;32m<ipython-input-132-6309cb2db618>\u001b[0m in \u001b[0;36mfirst_draw\u001b[1;34m(self)\u001b[0m\n\u001b[0;32m     45\u001b[0m     \u001b[1;32mdef\u001b[0m \u001b[0mfirst_draw\u001b[0m\u001b[1;33m(\u001b[0m\u001b[0mself\u001b[0m\u001b[1;33m)\u001b[0m\u001b[1;33m:\u001b[0m\u001b[1;33m\u001b[0m\u001b[1;33m\u001b[0m\u001b[0m\n\u001b[0;32m     46\u001b[0m         \u001b[0mprint\u001b[0m\u001b[1;33m(\u001b[0m\u001b[1;34m\"pesco le carte iniziali\"\u001b[0m\u001b[1;33m)\u001b[0m\u001b[1;33m\u001b[0m\u001b[1;33m\u001b[0m\u001b[0m\n\u001b[1;32m---> 47\u001b[1;33m         \u001b[0mself\u001b[0m\u001b[1;33m.\u001b[0m\u001b[0madd_to_hand\u001b[0m\u001b[1;33m(\u001b[0m\u001b[0mself\u001b[0m\u001b[1;33m.\u001b[0m\u001b[0mgame\u001b[0m\u001b[1;33m.\u001b[0m\u001b[0mfirst_draw\u001b[0m\u001b[1;33m(\u001b[0m\u001b[1;33m)\u001b[0m\u001b[1;33m)\u001b[0m\u001b[1;33m\u001b[0m\u001b[1;33m\u001b[0m\u001b[0m\n\u001b[0m\u001b[0;32m     48\u001b[0m \u001b[1;33m\u001b[0m\u001b[0m\n\u001b[0;32m     49\u001b[0m     \u001b[1;32mdef\u001b[0m \u001b[0mdeclare_card\u001b[0m\u001b[1;33m(\u001b[0m\u001b[0mself\u001b[0m\u001b[1;33m,\u001b[0m \u001b[0mcard_declared\u001b[0m\u001b[1;33m)\u001b[0m\u001b[1;33m:\u001b[0m\u001b[1;33m\u001b[0m\u001b[1;33m\u001b[0m\u001b[0m\n",
      "\u001b[1;32m<ipython-input-154-cdfef56aebd2>\u001b[0m in \u001b[0;36mfirst_draw\u001b[1;34m(self)\u001b[0m\n\u001b[0;32m     58\u001b[0m \u001b[1;33m\u001b[0m\u001b[0m\n\u001b[0;32m     59\u001b[0m     \u001b[1;32mdef\u001b[0m \u001b[0mfirst_draw\u001b[0m\u001b[1;33m(\u001b[0m\u001b[0mself\u001b[0m\u001b[1;33m)\u001b[0m\u001b[1;33m:\u001b[0m\u001b[1;33m\u001b[0m\u001b[1;33m\u001b[0m\u001b[0m\n\u001b[1;32m---> 60\u001b[1;33m         \u001b[1;32massert\u001b[0m\u001b[1;33m(\u001b[0m\u001b[0mself\u001b[0m\u001b[1;33m.\u001b[0m\u001b[0mstate\u001b[0m \u001b[1;33m==\u001b[0m \u001b[0mself\u001b[0m\u001b[1;33m.\u001b[0m\u001b[0mstates\u001b[0m\u001b[1;33m[\u001b[0m\u001b[1;36m1\u001b[0m\u001b[1;33m]\u001b[0m\u001b[1;33m)\u001b[0m\u001b[1;33m,\u001b[0m \u001b[1;34m\"Nice try\"\u001b[0m\u001b[1;33m\u001b[0m\u001b[1;33m\u001b[0m\u001b[0m\n\u001b[0m\u001b[0;32m     61\u001b[0m \u001b[1;33m\u001b[0m\u001b[0m\n\u001b[0;32m     62\u001b[0m         \u001b[1;32mreturn\u001b[0m \u001b[0mself\u001b[0m\u001b[1;33m.\u001b[0m\u001b[0mDeck\u001b[0m\u001b[1;33m.\u001b[0m\u001b[0mdraw\u001b[0m\u001b[1;33m(\u001b[0m\u001b[1;33m)\u001b[0m\u001b[1;33m\u001b[0m\u001b[1;33m\u001b[0m\u001b[0m\n",
      "\u001b[1;31mAssertionError\u001b[0m: Nice try"
     ]
    }
   ],
   "source": [
    "# dovrebbe dare errore\n",
    "p2.first_draw()"
   ]
  },
  {
   "cell_type": "code",
   "execution_count": 161,
   "metadata": {},
   "outputs": [
    {
     "ename": "AssertionError",
     "evalue": "You first have to declare a card",
     "output_type": "error",
     "traceback": [
      "\u001b[1;31m---------------------------------------------------------------------------\u001b[0m",
      "\u001b[1;31mAssertionError\u001b[0m                            Traceback (most recent call last)",
      "\u001b[1;32m<ipython-input-161-aad9ca317f47>\u001b[0m in \u001b[0;36m<module>\u001b[1;34m\u001b[0m\n\u001b[0;32m      1\u001b[0m \u001b[1;31m# dovrebbe dare errore\u001b[0m\u001b[1;33m\u001b[0m\u001b[1;33m\u001b[0m\u001b[1;33m\u001b[0m\u001b[0m\n\u001b[1;32m----> 2\u001b[1;33m \u001b[0mp2\u001b[0m\u001b[1;33m.\u001b[0m\u001b[0mplay_cards\u001b[0m\u001b[1;33m(\u001b[0m\u001b[1;33m[\u001b[0m\u001b[1;36m2\u001b[0m\u001b[1;33m]\u001b[0m\u001b[1;33m)\u001b[0m\u001b[1;33m\u001b[0m\u001b[1;33m\u001b[0m\u001b[0m\n\u001b[0m",
      "\u001b[1;32m<ipython-input-132-6309cb2db618>\u001b[0m in \u001b[0;36mplay_cards\u001b[1;34m(self, cards)\u001b[0m\n\u001b[0;32m     71\u001b[0m \u001b[1;33m\u001b[0m\u001b[0m\n\u001b[0;32m     72\u001b[0m         \u001b[1;31m# assert the card has already been declared\u001b[0m\u001b[1;33m\u001b[0m\u001b[1;33m\u001b[0m\u001b[1;33m\u001b[0m\u001b[0m\n\u001b[1;32m---> 73\u001b[1;33m         \u001b[1;32massert\u001b[0m\u001b[1;33m(\u001b[0m\u001b[0mgame\u001b[0m\u001b[1;33m.\u001b[0m\u001b[0mstate\u001b[0m \u001b[1;33m==\u001b[0m \u001b[0mgame\u001b[0m\u001b[1;33m.\u001b[0m\u001b[0mstates\u001b[0m\u001b[1;33m[\u001b[0m\u001b[1;36m3\u001b[0m\u001b[1;33m]\u001b[0m\u001b[1;33m)\u001b[0m\u001b[1;33m,\u001b[0m \u001b[1;34m\"You first have to declare a card\"\u001b[0m\u001b[1;33m\u001b[0m\u001b[1;33m\u001b[0m\u001b[0m\n\u001b[0m\u001b[0;32m     74\u001b[0m \u001b[1;33m\u001b[0m\u001b[0m\n\u001b[0;32m     75\u001b[0m         \u001b[1;31m# assert it's you turn\u001b[0m\u001b[1;33m\u001b[0m\u001b[1;33m\u001b[0m\u001b[1;33m\u001b[0m\u001b[0m\n",
      "\u001b[1;31mAssertionError\u001b[0m: You first have to declare a card"
     ]
    }
   ],
   "source": [
    "# dovrebbe dare errore\n",
    "p2.play_cards([2])"
   ]
  },
  {
   "cell_type": "code",
   "execution_count": 162,
   "metadata": {},
   "outputs": [
    {
     "name": "stdout",
     "output_type": "stream",
     "text": [
      "Le tue carte sono:  [1, 1, 1, 1, 2, 2, 2, 3, 4, 4, 5, 5, 5, 6, 7, 8, 8, 8, 9, 10, 10, 12, 12, 12, 13, 13, 100, 100, 100]\n",
      "La carta da giocare è il 2\n"
     ]
    }
   ],
   "source": [
    "p2.show_hand()\n",
    "p2.declare_card([2])"
   ]
  },
  {
   "cell_type": "code",
   "execution_count": 163,
   "metadata": {},
   "outputs": [
    {
     "ename": "AssertionError",
     "evalue": "A card has already been declared: [2]",
     "output_type": "error",
     "traceback": [
      "\u001b[1;31m---------------------------------------------------------------------------\u001b[0m",
      "\u001b[1;31mAssertionError\u001b[0m                            Traceback (most recent call last)",
      "\u001b[1;32m<ipython-input-163-74ddfb7e41fe>\u001b[0m in \u001b[0;36m<module>\u001b[1;34m\u001b[0m\n\u001b[0;32m      1\u001b[0m \u001b[1;31m# dovrebbe dare errore\u001b[0m\u001b[1;33m\u001b[0m\u001b[1;33m\u001b[0m\u001b[1;33m\u001b[0m\u001b[0m\n\u001b[1;32m----> 2\u001b[1;33m \u001b[0mp2\u001b[0m\u001b[1;33m.\u001b[0m\u001b[0mdeclare_card\u001b[0m\u001b[1;33m(\u001b[0m\u001b[1;33m[\u001b[0m\u001b[1;36m2\u001b[0m\u001b[1;33m]\u001b[0m\u001b[1;33m)\u001b[0m\u001b[1;33m\u001b[0m\u001b[1;33m\u001b[0m\u001b[0m\n\u001b[0m",
      "\u001b[1;32m<ipython-input-132-6309cb2db618>\u001b[0m in \u001b[0;36mdeclare_card\u001b[1;34m(self, card_declared)\u001b[0m\n\u001b[0;32m     56\u001b[0m         \u001b[1;31m#self.check_input(card_declared)\u001b[0m\u001b[1;33m\u001b[0m\u001b[1;33m\u001b[0m\u001b[1;33m\u001b[0m\u001b[0m\n\u001b[0;32m     57\u001b[0m \u001b[1;33m\u001b[0m\u001b[0m\n\u001b[1;32m---> 58\u001b[1;33m         \u001b[0mgame\u001b[0m\u001b[1;33m.\u001b[0m\u001b[0mdeclare_card\u001b[0m\u001b[1;33m(\u001b[0m\u001b[0mcard_declared\u001b[0m\u001b[1;33m)\u001b[0m\u001b[1;33m\u001b[0m\u001b[1;33m\u001b[0m\u001b[0m\n\u001b[0m\u001b[0;32m     59\u001b[0m \u001b[1;33m\u001b[0m\u001b[0m\n\u001b[0;32m     60\u001b[0m     \u001b[1;32mdef\u001b[0m \u001b[0mplay_cards\u001b[0m\u001b[1;33m(\u001b[0m\u001b[0mself\u001b[0m\u001b[1;33m,\u001b[0m \u001b[0mcards\u001b[0m\u001b[1;33m:\u001b[0m\u001b[0mstr\u001b[0m\u001b[1;33m)\u001b[0m\u001b[1;33m:\u001b[0m\u001b[1;33m\u001b[0m\u001b[1;33m\u001b[0m\u001b[0m\n",
      "\u001b[1;32m<ipython-input-154-cdfef56aebd2>\u001b[0m in \u001b[0;36mdeclare_card\u001b[1;34m(self, card_declared)\u001b[0m\n\u001b[0;32m     65\u001b[0m \u001b[1;33m\u001b[0m\u001b[0m\n\u001b[0;32m     66\u001b[0m         \u001b[1;31m# assert there's need to declare the card\u001b[0m\u001b[1;33m\u001b[0m\u001b[1;33m\u001b[0m\u001b[1;33m\u001b[0m\u001b[0m\n\u001b[1;32m---> 67\u001b[1;33m         \u001b[1;32massert\u001b[0m\u001b[1;33m(\u001b[0m\u001b[0mself\u001b[0m\u001b[1;33m.\u001b[0m\u001b[0mstate\u001b[0m \u001b[1;33m==\u001b[0m \u001b[0mself\u001b[0m\u001b[1;33m.\u001b[0m\u001b[0mstates\u001b[0m\u001b[1;33m[\u001b[0m\u001b[1;36m2\u001b[0m\u001b[1;33m]\u001b[0m\u001b[1;33m)\u001b[0m\u001b[1;33m,\u001b[0m \u001b[1;34mf\"A card has already been declared: {self.card_declared}\"\u001b[0m\u001b[1;33m\u001b[0m\u001b[1;33m\u001b[0m\u001b[0m\n\u001b[0m\u001b[0;32m     68\u001b[0m \u001b[1;33m\u001b[0m\u001b[0m\n\u001b[0;32m     69\u001b[0m         \u001b[0mself\u001b[0m\u001b[1;33m.\u001b[0m\u001b[0mgame_started\u001b[0m \u001b[1;33m=\u001b[0m \u001b[1;32mTrue\u001b[0m\u001b[1;33m\u001b[0m\u001b[1;33m\u001b[0m\u001b[0m\n",
      "\u001b[1;31mAssertionError\u001b[0m: A card has already been declared: [2]"
     ]
    }
   ],
   "source": [
    "# dovrebbe dare errore\n",
    "p2.declare_card([2])"
   ]
  },
  {
   "cell_type": "code",
   "execution_count": 164,
   "metadata": {},
   "outputs": [
    {
     "name": "stdout",
     "output_type": "stream",
     "text": [
      "player 2 has played 3 copies of the card 2 \n"
     ]
    }
   ],
   "source": [
    "p2.play_cards(\"2, 4; 3\")"
   ]
  },
  {
   "cell_type": "code",
   "execution_count": 165,
   "metadata": {},
   "outputs": [
    {
     "ename": "AssertionError",
     "evalue": "It's not your turn: it's turn of player: 1",
     "output_type": "error",
     "traceback": [
      "\u001b[1;31m---------------------------------------------------------------------------\u001b[0m",
      "\u001b[1;31mAssertionError\u001b[0m                            Traceback (most recent call last)",
      "\u001b[1;32m<ipython-input-165-d75fd18ac22b>\u001b[0m in \u001b[0;36m<module>\u001b[1;34m\u001b[0m\n\u001b[0;32m      1\u001b[0m \u001b[1;31m# dovrebbe dare errore\u001b[0m\u001b[1;33m\u001b[0m\u001b[1;33m\u001b[0m\u001b[1;33m\u001b[0m\u001b[0m\n\u001b[1;32m----> 2\u001b[1;33m \u001b[0mp2\u001b[0m\u001b[1;33m.\u001b[0m\u001b[0mplay_cards\u001b[0m\u001b[1;33m(\u001b[0m\u001b[1;34m\"2,\"\u001b[0m\u001b[1;33m)\u001b[0m\u001b[1;33m\u001b[0m\u001b[1;33m\u001b[0m\u001b[0m\n\u001b[0m",
      "\u001b[1;32m<ipython-input-132-6309cb2db618>\u001b[0m in \u001b[0;36mplay_cards\u001b[1;34m(self, cards)\u001b[0m\n\u001b[0;32m     74\u001b[0m \u001b[1;33m\u001b[0m\u001b[0m\n\u001b[0;32m     75\u001b[0m         \u001b[1;31m# assert it's you turn\u001b[0m\u001b[1;33m\u001b[0m\u001b[1;33m\u001b[0m\u001b[1;33m\u001b[0m\u001b[0m\n\u001b[1;32m---> 76\u001b[1;33m         \u001b[1;32massert\u001b[0m\u001b[1;33m(\u001b[0m\u001b[0mgame\u001b[0m\u001b[1;33m.\u001b[0m\u001b[0mturn\u001b[0m \u001b[1;33m==\u001b[0m \u001b[0mself\u001b[0m\u001b[1;33m.\u001b[0m\u001b[0mid_\u001b[0m\u001b[1;33m)\u001b[0m\u001b[1;33m,\u001b[0m \u001b[1;34mf\"It's not your turn: it's turn of player: {game.turn}\"\u001b[0m\u001b[1;33m\u001b[0m\u001b[1;33m\u001b[0m\u001b[0m\n\u001b[0m\u001b[0;32m     77\u001b[0m \u001b[1;33m\u001b[0m\u001b[0m\n\u001b[0;32m     78\u001b[0m         \u001b[1;31m#self.check_input(cards)\u001b[0m\u001b[1;33m\u001b[0m\u001b[1;33m\u001b[0m\u001b[1;33m\u001b[0m\u001b[0m\n",
      "\u001b[1;31mAssertionError\u001b[0m: It's not your turn: it's turn of player: 1"
     ]
    }
   ],
   "source": [
    "# dovrebbe dare errore\n",
    "p2.play_cards(\"2,\")"
   ]
  },
  {
   "cell_type": "code",
   "execution_count": 166,
   "metadata": {},
   "outputs": [
    {
     "name": "stdout",
     "output_type": "stream",
     "text": [
      "player 1 has played 1 copies of the card 2 \n"
     ]
    }
   ],
   "source": [
    "p1.play_cards(\"2,\")\n"
   ]
  },
  {
   "cell_type": "code",
   "execution_count": 167,
   "metadata": {},
   "outputs": [
    {
     "name": "stdout",
     "output_type": "stream",
     "text": [
      "Il giocatore 2 sta dubitando del giocatore 1!\n",
      "E invece il giocatore 1 aveva effettivamente giocato 1 copie della carta 2!\n",
      "Le carte sono state prese o rimosse dal pozzo\n"
     ]
    }
   ],
   "source": [
    "p2.doubt()"
   ]
  },
  {
   "cell_type": "code",
   "execution_count": 168,
   "metadata": {},
   "outputs": [
    {
     "name": "stdout",
     "output_type": "stream",
     "text": [
      "La carta da giocare è il 2\n"
     ]
    }
   ],
   "source": [
    "p2.declare_card([2])"
   ]
  },
  {
   "cell_type": "code",
   "execution_count": 169,
   "metadata": {},
   "outputs": [
    {
     "name": "stdout",
     "output_type": "stream",
     "text": [
      "player 2 has passed its turn\n"
     ]
    }
   ],
   "source": [
    "p2.play_cards(\"\")"
   ]
  },
  {
   "cell_type": "code",
   "execution_count": 170,
   "metadata": {},
   "outputs": [
    {
     "name": "stdout",
     "output_type": "stream",
     "text": [
      "player 1 has passed its turn\n",
      "Tutti i giocatori hanno passato! Sta per iniziare un nuovo giro\n",
      "Le carte sono state prese o rimosse dal pozzo\n"
     ]
    }
   ],
   "source": [
    "p1.play_cards(\"\")"
   ]
  },
  {
   "cell_type": "code",
   "execution_count": 171,
   "metadata": {},
   "outputs": [
    {
     "name": "stdout",
     "output_type": "stream",
     "text": [
      "Le tue carte sono:  [1, 1, 1, 1, 2, 2, 2, 2, 3, 4, 4, 5, 5, 5, 6, 7, 8, 8, 8, 9, 10, 10, 12, 12, 12, 13, 13, 100, 100, 100]\n"
     ]
    }
   ],
   "source": [
    "p2.show_hand()"
   ]
  },
  {
   "cell_type": "code",
   "execution_count": 173,
   "metadata": {},
   "outputs": [
    {
     "name": "stdout",
     "output_type": "stream",
     "text": [
      "La carta da giocare è il 1\n",
      "Attenzione, il giocatore 2 ha esaurito le carte in mano!\n",
      "Se nessuno dubita, vincerà appena il giocatore successivo giocherà una carta\n",
      "player 2 has played 27 copies of the card 1 \n"
     ]
    }
   ],
   "source": [
    "p2.declare_card([1])\n",
    "p2.play_cards(\"1, 1, 1, 1, 2, 2, 2, 2, 3, 4, 4, 5, 5, 5, 6, 7, 8, 8, 8, 9, 10, 10, 12, 12, 12, 13, 13, 100, 100, 100\")"
   ]
  },
  {
   "cell_type": "code",
   "execution_count": 174,
   "metadata": {},
   "outputs": [
    {
     "name": "stdout",
     "output_type": "stream",
     "text": [
      "player 1 has passed its turn\n"
     ]
    }
   ],
   "source": [
    "p1.play_cards(\"1\")"
   ]
  },
  {
   "cell_type": "markdown",
   "metadata": {},
   "source": [
    "# Game\n",
    "\n",
    "magari fai in modo che non ci si possa unire a un game già iniziato\n",
    "\n",
    "cosa succede se uno dubita e uno gioca nello stesso momento?\n",
    "\n",
    "cambia card declared in stringa o qualcosa di comodo da scrivere\\visualizzare\n",
    "\n",
    "anziché dover passare l'id del giocatore che chiama le funzioni game, c'è un modo per capire quale istanza di player sta chiamando game?\n",
    "\n",
    "chiama game players da un'altra funzione, così puoi killare tutto quando finisce il game"
   ]
  },
  {
   "cell_type": "code",
   "execution_count": 45,
   "metadata": {},
   "outputs": [],
   "source": [
    "### import numpy as np\n",
    "import random as random\n",
    "import re\n",
    "import time\n",
    "\n",
    "class Game:\n",
    "    def __init__(self, num_players):\n",
    "        self.Deck = Cards(num_players)\n",
    "        self.num_players = num_players\n",
    "        \n",
    "        # a cosa corrisponde il jolly?\n",
    "        self.jolly = 100\n",
    "        \n",
    "        self.turn = 1       \n",
    "        self.player = 0\n",
    "        self.consecutive_passes = 0\n",
    "        self.cards_played  = []\n",
    "        \n",
    "        self.game_started     = False\n",
    "        self.to_check_victory = False\n",
    "        self.card_declared    = \"\"\n",
    "        \n",
    "        self.states = [\"starting\", \"drawing\", \"declaring\", \"playing\"]\n",
    "        self.state  = self.states[0]\n",
    "        \n",
    "        # contains the instances of the players\n",
    "        self.players = []\n",
    "        self.voters  = []\n",
    "        \n",
    "    \n",
    "    def add_player(self, player):\n",
    "        assert(self.state == self.states[0]), \"Game has already started\"\n",
    "        assert(player not in self.players), \"Player already in tha game\"\n",
    "        \n",
    "        self.players.append(player)\n",
    "        \n",
    "    def remove_player(self):\n",
    "        # in teoria dovresti poter rimuoveree anche a game inziiato eprò per ora va bene così\n",
    "        assert(self.state == self.states[0]), \"Game has already started\"\n",
    "        #remove also from self.voters\n",
    "        return\n",
    "    \n",
    "    def vote_Start(self, player):\n",
    "        assert(self.state == self.states[0]), \"Game has already started\"\n",
    "        \n",
    "        self.voters.append(player)\n",
    "        votes = len(set(self.voters))\n",
    "        print(f\"{votes} players on {len(self.players)} want to start the game\")\n",
    "        if votes >= len(self.players):\n",
    "            print(\"\\ninstantiating game\")\n",
    "            self.state = self.states[1]\n",
    "            \n",
    "            # magari metti qui il first draw con un for loop e mettila come funzione privata\n",
    "            for player in self.players:\n",
    "                    player.first_draw()\n",
    "            self.state = self.states[2]\n",
    "        return\n",
    "            \n",
    "    def first_draw(self):\n",
    "        assert(self.state == self.states[1]), \"Nice try\"\n",
    "\n",
    "        return self.Deck.draw()\n",
    "    \n",
    "    def declare_card(self, card_declared:str):\n",
    "        \n",
    "        # assert there's need to declare the card\n",
    "        assert(self.state == self.states[2]), f\"A card has already been declared: {self.card_declared}\"\n",
    "        \n",
    "        self.game_started = True\n",
    "        self.card_declared = str(card_declared)\n",
    "        print(f\"La carta da giocare è il {self.card_declared}\")\n",
    "        self.state = self.states[3]\n",
    "        \n",
    "    def advance_turn(self):\n",
    "        self.turn += 1\n",
    "        if self.turn > self.num_players:\n",
    "            self.turn = 1\n",
    "            \n",
    "    def soft_reset(self, loser=None):\n",
    "        \"\"\"\n",
    "        Resetta pool, need_to_declare e il num di pass consecutivi.\n",
    "        Se specificato il loser, egli pescherà il pozzo.\n",
    "\n",
    "        Parameters\n",
    "        ----------\n",
    "        loser: istanza del player perdente\n",
    "\n",
    "        Returns\n",
    "        ----------\n",
    "        \"\"\"\n",
    "        \n",
    "        # reset all relevant variables\n",
    "        self.state = self.states[2]\n",
    "        self.to_check_victory   = False\n",
    "        self.consecutive_passes = 0\n",
    "        self.cards_played = []\n",
    "        \n",
    "        # eventually add pool to hand of loser and reset pool \n",
    "        if loser:\n",
    "            loser.add_to_hand(self.Deck.pool)\n",
    "        else:\n",
    "            self.Deck.reset_pool()\n",
    "        \n",
    "        return\n",
    "    \n",
    "    \n",
    "    def check_victory(self):\n",
    "        \"\"\" Se il giocatore corrente non ha carte in mano, \n",
    "            dichiaralo come possibile vincitore.\n",
    "            Se, il possibile vincitore non ha carte in mano alla seconda chiamata,\n",
    "            dichiaralo vincitore \"\"\"\n",
    "        \n",
    "        # controlla se il giocatore corrente non ha carte\n",
    "        potential_winner = self.players[self.turn -1]\n",
    "        if len(potential_winner.hand) == 0 and not self.to_check_victory:\n",
    "            print(f\"Attenzione, il giocatore {potential_winner.id_} ha esaurito le carte in mano!\")\n",
    "            print(\"Se nessuno dubita, vincerà appena il giocatore successivo giocherà una carta\")\n",
    "            self.to_check_victory = True\n",
    "        \n",
    "        # controlla se il giocatore del turno precedente non ha carte\n",
    "        elif self.to_check_victory:\n",
    "            potential_winner = self.players[self.turn-2]\n",
    "            if len(potential_winner.hand) == 0:\n",
    "                print(\"\\n\\n\\n\")\n",
    "                print(\"-----------------------------\")\n",
    "                print(f\"Player {self.turn-1} has won! GGs!\")\n",
    "                print(\"how d fak do i kill this instance within the class?\")\n",
    "                print(\"-----------------------------\")\n",
    "            else: \n",
    "                self.to_check_victory = False\n",
    "                \n",
    "    def play_cards(self, cards_played, player_id):\n",
    "        \"\"\" ask the user for the cards he wants to play,\n",
    "            take only those which he actually has in hand,\n",
    "            use the Player class method to play the cards \"\"\" \n",
    "                \n",
    "        self.cards_played = cards_played\n",
    "           \n",
    "        # informative prints and victory check\n",
    "        if cards_played:\n",
    "            print(f\"player {player_id} has played {len(cards_played)} copies of the card {self.card_declared} \")\n",
    "            add_to_pool = self.Deck.add_to_pool(cards_played)\n",
    "            self.consecutive_passes = 0  \n",
    "        else:\n",
    "            print(f\"player {player_id} has passed its turn\")  \n",
    "            self.consecutive_passes += 1\n",
    "            self.check_cons_passes()\n",
    "            \n",
    "        self.check_victory()\n",
    "            \n",
    "        # aggiorna di chi è il turno\n",
    "        self.advance_turn()\n",
    "        \n",
    "        return \n",
    "    \n",
    "    def check_cons_passes(self):\n",
    "        \"\"\" todo: setta il game turn a chi ha iniziato il giro \"\"\"\n",
    "        if self.consecutive_passes == self.num_players:\n",
    "            print(\"Tutti i giocatori hanno passato! Sta per iniziare un nuovo giro\")\n",
    "            self.soft_reset()\n",
    "        return\n",
    "        \n",
    "    def doubt(self, who_doubted):\n",
    "        \n",
    "        assert(self.state == self.states[3]), \"Non puoi dubitare di giocate ancora non effettuate!\"\n",
    "        # questo serve, quello dopo è ridondante\n",
    "        assert(len(self.cards_played)> 0), \"Non puoi dubitare se il giocatore precedente non ha giocato carte\"\n",
    "        \n",
    "        assert(self.consecutive_passes == 0), \"Non puoi dubitare se il giocatore precedente non ha giocato carte\"\n",
    "        \n",
    "        doubted_player = [i for i in range(1, self.num_players + 1)][self.turn-2]\n",
    "        \n",
    "# if the player was honest, reset and give the pool to the doubter\n",
    "        print(f\"carte da giocare {[int(self.card_declared)]*len(self.cards_played)}, carte giocate {self.cards_played}\")\n",
    "        if self.cards_played == [int(self.card_declared)]*len(self.cards_played):\n",
    "            print(\"E invece il giocatore {} aveva effettivamente giocato {} copie della carta {}!\" \\\n",
    "                  .format(doubted_player, len(self.cards_played), self.card_declared)) \n",
    "            loser = self.players[who_doubted-1]\n",
    "\n",
    "# if the player got correctly doubted, give him the first turn and the bluffer takes the cards\n",
    "        else:\n",
    "            print(f\"Il giocatore {who_doubted} ha correttamente dubitato del giocatore {doubted_player}!\")\n",
    "            loser = self.players[doubted_player-1]\n",
    "            \n",
    "        self.soft_reset(loser)\n",
    "        return\n",
    "            \n",
    "        \n",
    "    def play(self):\n",
    "        \n",
    "        self.first_draw()\n",
    "                \n",
    "        while True:\n",
    "            \n",
    "            \"\"\"---------------- define player ----------------\"\"\"\n",
    "            \n",
    "            self.player = self.players[self.turn]\n",
    "            print(\"\\n----------------------------------------\")\n",
    "            print(f\"è il turno del giocatore {self.player.id_}\")\n",
    "            \n",
    "            \n",
    "            \"\"\"---------------- play card ----------------\"\"\"\n",
    "            \n",
    "            if self.need_to_declare:\n",
    "                print(\"Inizia un nuovo giro! Tagadà!\")\n",
    "                time.sleep(1)\n",
    "                self.player.show_hand()\n",
    "                # declare the card which will need to be played\n",
    "                self.card_declared = [self.take_input(istrz=self.decl_istr)]\n",
    "                self.need_to_declare = False\n",
    "                \n",
    "            print(f\"La carta da giocare è il {self.card_declared[0]}\")\n",
    "            \n",
    "            time.sleep(0.5)\n",
    "            # play cards\n",
    "            self.cards_played = self.play_cards()         \n",
    "            \n",
    "            \"\"\"---------------- doubt ----------------\"\"\"\n",
    "            \n",
    "            time.sleep(1)\n",
    "            who_doubted = None\n",
    "            # se non è stato passato il turno, apri la fase di dubbio\n",
    "            if self.cards_played:\n",
    "                # if someone wants to doubt, insert his player number in this input\n",
    "                who_doubted = self.take_input(self.doubt_istr, \n",
    "                                              min_= 0,\n",
    "                                              max_=self.num_players,\n",
    "                                              type_=int,\n",
    "                                              none = True,\n",
    "                                              no_self_doubt = True)\n",
    "                if who_doubted:\n",
    "                    correctness_doubt = self.doubt(self.cards_played, who_doubted)   \n",
    "                    time.sleep(2.5)\n",
    "            \n",
    "            else: \n",
    "                self.consec_passes += 1\n",
    "                if self.consec_passes >= self.num_players:\n",
    "                    time.sleep(0.5)\n",
    "                    print(\"Tutti i giocatori hanno passato!\")\n",
    "                    \n",
    "                    self.reset()\n",
    "            \n",
    "            \"\"\"---------------- check victory ----------------\"\"\"\n",
    "            \n",
    "            if not self.player.hand:\n",
    "                print(f\"\\n Player {self.player._id} has won the game, ggs! \\n\")\n",
    "                return\n",
    "            \n",
    "            \"\"\"---------------- manage turns ----------------\"\"\"\n",
    "            \n",
    "            # if there was a doubt, give the turn to the winner of the outcome\n",
    "            if who_doubted and correctness_doubt == True:\n",
    "                self.turn = who_doubted-1\n",
    "                \n",
    "            # else regularly advance the turn\n",
    "            elif not who_doubted:\n",
    "                self.advance_turn()\n",
    "        \n",
    "        return"
   ]
  },
  {
   "cell_type": "code",
   "execution_count": null,
   "metadata": {},
   "outputs": [],
   "source": []
  },
  {
   "cell_type": "code",
   "execution_count": null,
   "metadata": {},
   "outputs": [],
   "source": []
  }
 ],
 "metadata": {
  "kernelspec": {
   "display_name": "Python 3",
   "language": "python",
   "name": "python3"
  },
  "language_info": {
   "codemirror_mode": {
    "name": "ipython",
    "version": 3
   },
   "file_extension": ".py",
   "mimetype": "text/x-python",
   "name": "python",
   "nbconvert_exporter": "python",
   "pygments_lexer": "ipython3",
   "version": "3.8.3"
  }
 },
 "nbformat": 4,
 "nbformat_minor": 4
}
