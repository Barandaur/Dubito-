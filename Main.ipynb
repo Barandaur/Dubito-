{
 "cells": [
  {
   "cell_type": "markdown",
   "metadata": {},
   "source": [
    "# Main: Dubito \n",
    "\n",
    "note: \n",
    "- nel deck uso un np.array per tracciare il deck, dalle altre parti uso liste\n",
    "- per ora è uso locale, numeri che si ripetono (senza specificare i semi) \n",
    "- aggiungi customizzazione per il deck (es. num di jolly)\n",
    "\n",
    "### Todoes:\n",
    "- trasformare da un while loop a una serie di 'bottoni' che si possono premere\n",
    "- aggiungere GUI"
   ]
  },
  {
   "cell_type": "markdown",
   "metadata": {},
   "source": [
    "### Imports"
   ]
  },
  {
   "cell_type": "code",
   "execution_count": 3,
   "metadata": {},
   "outputs": [],
   "source": [
    "# import di librerie\n",
    "import numpy as np\n",
    "import random as random\n",
    "import re\n",
    "import time\n",
    "import sys, os\n",
    "\n",
    "\n",
    "path_to_classes = os.getcwd() + r\"\\utils\"\n",
    "sys.path.append(path_to_classes)\n",
    "from Safety_checks import *"
   ]
  },
  {
   "cell_type": "markdown",
   "metadata": {},
   "source": [
    "### Game starts here!  "
   ]
  },
  {
   "cell_type": "code",
   "execution_count": null,
   "metadata": {},
   "outputs": [],
   "source": [
    "# Let's run some safety checks before instantiating the game!\n",
    "safety_checks_Deck()\n",
    "safety_checks_Player()\n",
    "\n",
    "# Let's instantiate the game!\n",
    "num_players = 2\n",
    "g = Game(num_players)"
   ]
  },
  {
   "cell_type": "code",
   "execution_count": null,
   "metadata": {},
   "outputs": [],
   "source": []
  }
 ],
 "metadata": {
  "kernelspec": {
   "display_name": "Python 3",
   "language": "python",
   "name": "python3"
  },
  "language_info": {
   "codemirror_mode": {
    "name": "ipython",
    "version": 3
   },
   "file_extension": ".py",
   "mimetype": "text/x-python",
   "name": "python",
   "nbconvert_exporter": "python",
   "pygments_lexer": "ipython3",
   "version": "3.8.3"
  }
 },
 "nbformat": 4,
 "nbformat_minor": 4
}
